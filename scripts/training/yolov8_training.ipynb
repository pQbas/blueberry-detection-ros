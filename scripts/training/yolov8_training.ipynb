{
  "nbformat": 4,
  "nbformat_minor": 0,
  "metadata": {
    "colab": {
      "provenance": [],
      "gpuType": "T4",
      "machine_shape": "hm",
      "collapsed_sections": [
        "m3KIhJ8ZxLOP",
        "S-2mACP0xmGS"
      ]
    },
    "kernelspec": {
      "name": "python3",
      "display_name": "Python 3"
    },
    "language_info": {
      "name": "python"
    },
    "accelerator": "GPU"
  },
  "cells": [
    {
      "cell_type": "code",
      "execution_count": 14,
      "metadata": {
        "colab": {
          "base_uri": "https://localhost:8080/"
        },
        "id": "7s7hf89qmVeV",
        "outputId": "f3e6d5b7-f21f-4239-b0a5-8d960a79ceb5"
      },
      "outputs": [
        {
          "output_type": "stream",
          "name": "stdout",
          "text": [
            "Sat Mar  9 01:07:46 2024       \n",
            "+---------------------------------------------------------------------------------------+\n",
            "| NVIDIA-SMI 535.104.05             Driver Version: 535.104.05   CUDA Version: 12.2     |\n",
            "|-----------------------------------------+----------------------+----------------------+\n",
            "| GPU  Name                 Persistence-M | Bus-Id        Disp.A | Volatile Uncorr. ECC |\n",
            "| Fan  Temp   Perf          Pwr:Usage/Cap |         Memory-Usage | GPU-Util  Compute M. |\n",
            "|                                         |                      |               MIG M. |\n",
            "|=========================================+======================+======================|\n",
            "|   0  Tesla T4                       Off | 00000000:00:04.0 Off |                    0 |\n",
            "| N/A   38C    P8               9W /  70W |      3MiB / 15360MiB |      0%      Default |\n",
            "|                                         |                      |                  N/A |\n",
            "+-----------------------------------------+----------------------+----------------------+\n",
            "                                                                                         \n",
            "+---------------------------------------------------------------------------------------+\n",
            "| Processes:                                                                            |\n",
            "|  GPU   GI   CI        PID   Type   Process name                            GPU Memory |\n",
            "|        ID   ID                                                             Usage      |\n",
            "|=======================================================================================|\n",
            "|  No running processes found                                                           |\n",
            "+---------------------------------------------------------------------------------------+\n",
            "Reading package lists...\n",
            "Building dependency tree...\n",
            "Reading state information...\n",
            "unzip is already the newest version (6.0-26ubuntu3.2).\n",
            "0 upgraded, 0 newly installed, 0 to remove and 35 not upgraded.\n"
          ]
        }
      ],
      "source": [
        "!nvidia-smi\n",
        "!pip install roboflow -q\n",
        "!pip install ultralytics==8.0.196 -q\n",
        "!sudo apt-get install unzip -q"
      ]
    },
    {
      "cell_type": "code",
      "source": [
        "import os\n",
        "from datetime import date\n",
        "from roboflow import Roboflow\n",
        "import ultralytics\n",
        "from google.colab import drive\n",
        "import os\n",
        "import shutil"
      ],
      "metadata": {
        "colab": {
          "base_uri": "https://localhost:8080/"
        },
        "id": "sS9LWToqjvwv",
        "outputId": "2d1d2200-6fbe-472c-ad7d-3981749501f3"
      },
      "execution_count": 3,
      "outputs": [
        {
          "output_type": "stream",
          "name": "stderr",
          "text": [
            "WARNING ⚠️ Ultralytics settings reset to default values. This may be due to a possible problem with your settings or a recent ultralytics package update. \n",
            "View settings with 'yolo settings' or at '/root/.config/Ultralytics/settings.yaml'\n",
            "Update settings with 'yolo settings key=value', i.e. 'yolo settings runs_dir=path/to/dir'.\n"
          ]
        }
      ]
    },
    {
      "cell_type": "markdown",
      "source": [
        "## Utilities"
      ],
      "metadata": {
        "id": "m3KIhJ8ZxLOP"
      }
    },
    {
      "cell_type": "code",
      "source": [
        "def mkdir_folder(folder, path):\n",
        "  PATH = os.path.join(path,folder)\n",
        "  if os.path.exists(PATH) == False:\n",
        "    os.mkdir(PATH)\n",
        "    print(f\"Folder'{folder}' was created on path {path}\")\n",
        "  else:\n",
        "    print(f\"Folder '{folder}' was previously created on path '{path}'\")\n",
        "\n",
        "  return\n",
        "\n",
        "def copy_folder_contents(source_folder, destination_folder):\n",
        "    # Create destination folder if it doesn't exist\n",
        "    if not os.path.exists(destination_folder):\n",
        "        return f\"WARNING: Folder {destination_folder} doesn't exist!!!\"\n",
        "\n",
        "    # Iterate over files in the source folder\n",
        "    for item in os.listdir(source_folder):\n",
        "        source_item = os.path.join(source_folder, item)\n",
        "        destination_item = os.path.join(destination_folder, item)\n",
        "\n",
        "        # Check if the item is a file\n",
        "        if os.path.isfile(source_item):\n",
        "            # Copy the file to the destination folder\n",
        "            shutil.copy2(source_item, destination_item)\n",
        "        elif os.path.isdir(source_item):\n",
        "            # Recursively copy subfolders\n",
        "            shutil.copytree(source_item, destination_item)"
      ],
      "metadata": {
        "id": "MFgyGkIIxKjW"
      },
      "execution_count": null,
      "outputs": []
    },
    {
      "cell_type": "markdown",
      "source": [
        "## Dataset Definition"
      ],
      "metadata": {
        "id": "vlyoPoL8xOBx"
      }
    },
    {
      "cell_type": "code",
      "source": [
        "''' --------------- PARAMETROS DEL DATASET  ---------------------'''\n",
        "DATASET_NAME = 'blueberry2'\n",
        "DATASET_VERSION = 7\n",
        "MODEL = 'yolov8'\n",
        "'''-----------------------------------------------------------'''\n",
        "\n",
        "# downloading the dataset\n",
        "rf = Roboflow(api_key=\"Z63mUXBjG48P7Hkb3vDi\")\n",
        "project = rf.workspace(\"pqbas\").project(DATASET_NAME)\n",
        "dataset = project.version(DATASET_VERSION).download(MODEL)\n"
      ],
      "metadata": {
        "id": "aGStzk8NjeUf"
      },
      "execution_count": 6,
      "outputs": []
    },
    {
      "cell_type": "markdown",
      "source": [
        "## Training"
      ],
      "metadata": {
        "id": "gVzdWQ8CxS-n"
      }
    },
    {
      "cell_type": "code",
      "source": [
        "''' --------------- PARAMETROS DE ENTRENAMIENTO -----------------'''\n",
        "EPOCHS = 2\n",
        "BATCH = 24\n",
        "VERSION = 'yolov8m'\n",
        "'''-----------------------------------------------------------'''\n",
        "\n",
        "# training with yolov8\n",
        "!yolo train model=yolov8m.pt data={dataset.location}/data.yaml batch={BATCH} epochs={EPOCHS} imgsz=640 name={VERSION} device=0"
      ],
      "metadata": {
        "colab": {
          "base_uri": "https://localhost:8080/"
        },
        "id": "E0Mv73vcmnZK",
        "outputId": "267d4a79-119b-46ba-8403-ff3455f25869"
      },
      "execution_count": 12,
      "outputs": [
        {
          "output_type": "stream",
          "name": "stdout",
          "text": [
            "New https://pypi.org/project/ultralytics/8.1.24 available 😃 Update with 'pip install -U ultralytics'\n",
            "Ultralytics YOLOv8.0.196 🚀 Python-3.10.12 torch-2.1.0+cu121 CUDA:0 (Tesla T4, 15102MiB)\n",
            "\u001b[34m\u001b[1mengine/trainer: \u001b[0mtask=detect, mode=train, model=yolov8m.pt, data=/content/Blueberry2-7/data.yaml, epochs=2, patience=50, batch=24, imgsz=640, save=True, save_period=-1, cache=False, device=0, workers=8, project=None, name=yolov8m, exist_ok=False, pretrained=True, optimizer=auto, verbose=True, seed=0, deterministic=True, single_cls=False, rect=False, cos_lr=False, close_mosaic=10, resume=False, amp=True, fraction=1.0, profile=False, freeze=None, overlap_mask=True, mask_ratio=4, dropout=0.0, val=True, split=val, save_json=False, save_hybrid=False, conf=None, iou=0.7, max_det=300, half=False, dnn=False, plots=True, source=None, show=False, save_txt=False, save_conf=False, save_crop=False, show_labels=True, show_conf=True, vid_stride=1, stream_buffer=False, line_width=None, visualize=False, augment=False, agnostic_nms=False, classes=None, retina_masks=False, boxes=True, format=torchscript, keras=False, optimize=False, int8=False, dynamic=False, simplify=False, opset=None, workspace=4, nms=False, lr0=0.01, lrf=0.01, momentum=0.937, weight_decay=0.0005, warmup_epochs=3.0, warmup_momentum=0.8, warmup_bias_lr=0.1, box=7.5, cls=0.5, dfl=1.5, pose=12.0, kobj=1.0, label_smoothing=0.0, nbs=64, hsv_h=0.015, hsv_s=0.7, hsv_v=0.4, degrees=0.0, translate=0.1, scale=0.5, shear=0.0, perspective=0.0, flipud=0.0, fliplr=0.5, mosaic=1.0, mixup=0.0, copy_paste=0.0, cfg=None, tracker=botsort.yaml, save_dir=runs/detect/yolov8m3\n",
            "2024-03-09 00:33:41.624934: E external/local_xla/xla/stream_executor/cuda/cuda_dnn.cc:9261] Unable to register cuDNN factory: Attempting to register factory for plugin cuDNN when one has already been registered\n",
            "2024-03-09 00:33:41.626809: E external/local_xla/xla/stream_executor/cuda/cuda_fft.cc:607] Unable to register cuFFT factory: Attempting to register factory for plugin cuFFT when one has already been registered\n",
            "2024-03-09 00:33:41.628748: E external/local_xla/xla/stream_executor/cuda/cuda_blas.cc:1515] Unable to register cuBLAS factory: Attempting to register factory for plugin cuBLAS when one has already been registered\n",
            "Overriding model.yaml nc=80 with nc=1\n",
            "\n",
            "                   from  n    params  module                                       arguments                     \n",
            "  0                  -1  1      1392  ultralytics.nn.modules.conv.Conv             [3, 48, 3, 2]                 \n",
            "  1                  -1  1     41664  ultralytics.nn.modules.conv.Conv             [48, 96, 3, 2]                \n",
            "  2                  -1  2    111360  ultralytics.nn.modules.block.C2f             [96, 96, 2, True]             \n",
            "  3                  -1  1    166272  ultralytics.nn.modules.conv.Conv             [96, 192, 3, 2]               \n",
            "  4                  -1  4    813312  ultralytics.nn.modules.block.C2f             [192, 192, 4, True]           \n",
            "  5                  -1  1    664320  ultralytics.nn.modules.conv.Conv             [192, 384, 3, 2]              \n",
            "  6                  -1  4   3248640  ultralytics.nn.modules.block.C2f             [384, 384, 4, True]           \n",
            "  7                  -1  1   1991808  ultralytics.nn.modules.conv.Conv             [384, 576, 3, 2]              \n",
            "  8                  -1  2   3985920  ultralytics.nn.modules.block.C2f             [576, 576, 2, True]           \n",
            "  9                  -1  1    831168  ultralytics.nn.modules.block.SPPF            [576, 576, 5]                 \n",
            " 10                  -1  1         0  torch.nn.modules.upsampling.Upsample         [None, 2, 'nearest']          \n",
            " 11             [-1, 6]  1         0  ultralytics.nn.modules.conv.Concat           [1]                           \n",
            " 12                  -1  2   1993728  ultralytics.nn.modules.block.C2f             [960, 384, 2]                 \n",
            " 13                  -1  1         0  torch.nn.modules.upsampling.Upsample         [None, 2, 'nearest']          \n",
            " 14             [-1, 4]  1         0  ultralytics.nn.modules.conv.Concat           [1]                           \n",
            " 15                  -1  2    517632  ultralytics.nn.modules.block.C2f             [576, 192, 2]                 \n",
            " 16                  -1  1    332160  ultralytics.nn.modules.conv.Conv             [192, 192, 3, 2]              \n",
            " 17            [-1, 12]  1         0  ultralytics.nn.modules.conv.Concat           [1]                           \n",
            " 18                  -1  2   1846272  ultralytics.nn.modules.block.C2f             [576, 384, 2]                 \n",
            " 19                  -1  1   1327872  ultralytics.nn.modules.conv.Conv             [384, 384, 3, 2]              \n",
            " 20             [-1, 9]  1         0  ultralytics.nn.modules.conv.Concat           [1]                           \n",
            " 21                  -1  2   4207104  ultralytics.nn.modules.block.C2f             [960, 576, 2]                 \n",
            " 22        [15, 18, 21]  1   3776275  ultralytics.nn.modules.head.Detect           [1, [192, 384, 576]]          \n",
            "Model summary: 295 layers, 25856899 parameters, 25856883 gradients, 79.1 GFLOPs\n",
            "\n",
            "Transferred 469/475 items from pretrained weights\n",
            "\u001b[34m\u001b[1mTensorBoard: \u001b[0mStart with 'tensorboard --logdir runs/detect/yolov8m3', view at http://localhost:6006/\n",
            "Freezing layer 'model.22.dfl.conv.weight'\n",
            "\u001b[34m\u001b[1mAMP: \u001b[0mrunning Automatic Mixed Precision (AMP) checks with YOLOv8n...\n",
            "\u001b[34m\u001b[1mAMP: \u001b[0mchecks passed ✅\n",
            "\u001b[34m\u001b[1mtrain: \u001b[0mScanning /content/Blueberry2-7/train/labels.cache... 1410 images, 0 backgrounds, 0 corrupt: 100% 1410/1410 [00:00<?, ?it/s]\n",
            "\u001b[34m\u001b[1malbumentations: \u001b[0mBlur(p=0.01, blur_limit=(3, 7)), MedianBlur(p=0.01, blur_limit=(3, 7)), ToGray(p=0.01), CLAHE(p=0.01, clip_limit=(1, 4.0), tile_grid_size=(8, 8))\n",
            "\u001b[34m\u001b[1mval: \u001b[0mScanning /content/Blueberry2-7/valid/labels.cache... 135 images, 0 backgrounds, 0 corrupt: 100% 135/135 [00:00<?, ?it/s]\n",
            "Plotting labels to runs/detect/yolov8m3/labels.jpg... \n",
            "\u001b[34m\u001b[1moptimizer:\u001b[0m 'optimizer=auto' found, ignoring 'lr0=0.01' and 'momentum=0.937' and determining best 'optimizer', 'lr0' and 'momentum' automatically... \n",
            "\u001b[34m\u001b[1moptimizer:\u001b[0m AdamW(lr=0.002, momentum=0.9) with parameter groups 77 weight(decay=0.0), 84 weight(decay=0.0005625000000000001), 83 bias(decay=0.0)\n",
            "Image sizes 640 train, 640 val\n",
            "Using 2 dataloader workers\n",
            "Logging results to \u001b[1mruns/detect/yolov8m3\u001b[0m\n",
            "Starting training for 2 epochs...\n",
            "\n",
            "      Epoch    GPU_mem   box_loss   cls_loss   dfl_loss  Instances       Size\n",
            "        1/2      14.9G      2.305      1.504     0.9947       2797        640: 100% 59/59 [02:18<00:00,  2.35s/it]\n",
            "                 Class     Images  Instances      Box(P          R      mAP50  mAP50-95): 100% 3/3 [00:04<00:00,  1.34s/it]\n",
            "                   all        135       9967       0.66      0.659      0.664      0.313\n",
            "\n",
            "      Epoch    GPU_mem   box_loss   cls_loss   dfl_loss  Instances       Size\n",
            "        2/2      14.5G      1.902     0.9823     0.8791       3433        640: 100% 59/59 [01:47<00:00,  1.83s/it]\n",
            "                 Class     Images  Instances      Box(P          R      mAP50  mAP50-95): 100% 3/3 [00:02<00:00,  1.14it/s]\n",
            "                   all        135       9967      0.731      0.666      0.738      0.367\n",
            "\n",
            "2 epochs completed in 0.076 hours.\n",
            "Optimizer stripped from runs/detect/yolov8m3/weights/last.pt, 52.0MB\n",
            "Optimizer stripped from runs/detect/yolov8m3/weights/best.pt, 52.0MB\n",
            "\n",
            "Validating runs/detect/yolov8m3/weights/best.pt...\n",
            "Ultralytics YOLOv8.0.196 🚀 Python-3.10.12 torch-2.1.0+cu121 CUDA:0 (Tesla T4, 15102MiB)\n",
            "Model summary (fused): 218 layers, 25840339 parameters, 0 gradients, 78.7 GFLOPs\n",
            "                 Class     Images  Instances      Box(P          R      mAP50  mAP50-95): 100% 3/3 [00:13<00:00,  4.59s/it]\n",
            "                   all        135       9967      0.731      0.666      0.738      0.367\n",
            "Speed: 0.5ms preprocess, 6.0ms inference, 0.0ms loss, 3.0ms postprocess per image\n",
            "Results saved to \u001b[1mruns/detect/yolov8m3\u001b[0m\n",
            "💡 Learn more at https://docs.ultralytics.com/modes/train\n"
          ]
        }
      ]
    },
    {
      "cell_type": "markdown",
      "source": [
        "## Save results"
      ],
      "metadata": {
        "id": "xGv_IJI-xarh"
      }
    },
    {
      "cell_type": "code",
      "source": [
        "HOME = os.getcwd()\n",
        "today = str(date.today())\n",
        "PATH = f'{HOME}/drive/MyDrive'\n",
        "\n",
        "# create the directory were experiments will be saved\n",
        "mkdir_folder(today, PATH)\n",
        "\n",
        "# copy experiments to folder\n",
        "copy_folder_contents(os.path.join(HOME,'runs','detect'), os.path.join(PATH,today))"
      ],
      "metadata": {
        "id": "STqBcNjqwPdM"
      },
      "execution_count": 15,
      "outputs": []
    },
    {
      "cell_type": "markdown",
      "source": [
        "# Things that I don't understand"
      ],
      "metadata": {
        "id": "S-2mACP0xmGS"
      }
    },
    {
      "cell_type": "markdown",
      "source": [],
      "metadata": {
        "id": "P7l-3oiiwO3J"
      }
    },
    {
      "cell_type": "code",
      "source": [
        "!rm -r /content/runs\n",
        "!rm -r /content/detection\n",
        "!cp -r /content/runs/detect/yolov8m {PATH}\n",
        "\n",
        "DATASET_PATH = os.path.join(HOME, DATASET_NAME.capitalize() + \"-\" + str(DATASET_VERSION))\n",
        "\n",
        "# create the directory where the datasets will be saved\n",
        "mkdir_folder('datasets', HOME)\n",
        "\n",
        "# move the dataset downloaded to datasets folder\n",
        "copy_folder_contents(DATASET_PATH, os.path.join(HOME,'datasets'))"
      ],
      "metadata": {
        "id": "kkbpegoMmcce"
      },
      "execution_count": null,
      "outputs": []
    }
  ]
}